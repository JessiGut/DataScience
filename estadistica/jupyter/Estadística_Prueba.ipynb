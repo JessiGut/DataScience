{
 "cells": [
  {
   "cell_type": "markdown",
   "id": "89ac1094",
   "metadata": {},
   "source": [
    "*Creado por:*\n",
    "    \n",
    "*Isabel Maniega*"
   ]
  },
  {
   "cell_type": "code",
   "execution_count": null,
   "id": "90199244",
   "metadata": {},
   "outputs": [],
   "source": [
    "import seaborn as sns\n",
    "import matplotlib.pyplot as plt"
   ]
  },
  {
   "cell_type": "markdown",
   "id": "f0e5c4a9",
   "metadata": {},
   "source": [
    "* El ejercicio puntua un Máximo de 10 puntos.\n",
    "* Lea el ejercicio detenidamente y realice cada uno de los apartados.\n",
    "* En caso de duda puede consultar internet para su realización.\n",
    "\n",
    "    # Suerte!! 😊"
   ]
  },
  {
   "cell_type": "markdown",
   "id": "4ba79551",
   "metadata": {},
   "source": [
    "# Ejercicio 1 (5 Ptos)"
   ]
  },
  {
   "cell_type": "markdown",
   "id": "18d456ba",
   "metadata": {},
   "source": [
    "Dada estos valores:"
   ]
  },
  {
   "cell_type": "code",
   "execution_count": null,
   "id": "8df2f8a6",
   "metadata": {},
   "outputs": [],
   "source": [
    "df = sns.load_dataset('diamonds')"
   ]
  },
  {
   "cell_type": "code",
   "execution_count": null,
   "id": "b2788bdc",
   "metadata": {},
   "outputs": [],
   "source": [
    "# df"
   ]
  },
  {
   "cell_type": "markdown",
   "id": "8d79b337",
   "metadata": {},
   "source": [
    "**1)** Realiza un Histograma con tamaño de barra 20, a la columna depth:\n",
    "* bins = 20\n",
    "* color = green\n",
    "* histtype = bar\n",
    "* rwitdh = 0.25\n",
    "* x label = Carat\n",
    "* y label = Frecuencia\n",
    "* title = Histograma"
   ]
  },
  {
   "cell_type": "markdown",
   "id": "b3fec46b",
   "metadata": {},
   "source": [
    "**2)** ¿Cuál es el número que más se repite?"
   ]
  },
  {
   "cell_type": "markdown",
   "id": "a68afcc5",
   "metadata": {},
   "source": [
    "**4)** ¿Qué pasa si cambiamos a tamaño de barra 60?\n",
    "* bins = 60\n",
    "* color = green\n",
    "* histtype = bar\n",
    "* rwitdh = 0.25\n",
    "* x label = Carat\n",
    "* y label = Frecuencia\n",
    "* title = Histograma"
   ]
  },
  {
   "cell_type": "markdown",
   "id": "54318d89",
   "metadata": {},
   "source": [
    "* Muestra la frecuencia usando value_counts()"
   ]
  },
  {
   "cell_type": "markdown",
   "id": "4c24eaae",
   "metadata": {},
   "source": [
    "**5)** ¿Qué parece indicar el sesgo en la distribución?"
   ]
  },
  {
   "cell_type": "markdown",
   "id": "2b73b606",
   "metadata": {},
   "source": [
    "# Ejercicio 2 (5 ptos)"
   ]
  },
  {
   "cell_type": "markdown",
   "id": "db66d5eb",
   "metadata": {},
   "source": [
    "Dado el dataframe anterior, representa los estádisticos mas representativos con ayuda de describe:\n",
    "* Obtendrás el valor promedio y la desviación estándar de la columna depth."
   ]
  },
  {
   "cell_type": "markdown",
   "id": "ac3853e8",
   "metadata": {},
   "source": [
    "Dado que un diamante tiene una profundidad (depth) de 63.6. ¿Cuántas desviaciones de la media es la profundidad del diamante?"
   ]
  },
  {
   "cell_type": "markdown",
   "id": "5764ba6d",
   "metadata": {},
   "source": [
    "Si nos dan un diamante que está a 0.6 desviaciones estándar por **debajo** de la profundidad media de 61.7494. Si la desviación estándar es de 1.4326, ¿qué profundidad tiene el diamante?"
   ]
  },
  {
   "cell_type": "markdown",
   "id": "b379d183",
   "metadata": {},
   "source": [
    "Dada la tabla de Z-Score di que porcentage son:"
   ]
  },
  {
   "cell_type": "markdown",
   "id": "1853aa66",
   "metadata": {},
   "source": [
    "**1)** Anteriormente calculaste la Z-score del primer diamante que proporción de diamantes tiene una profundidad menor"
   ]
  },
  {
   "cell_type": "markdown",
   "id": "b448806f",
   "metadata": {},
   "source": [
    "**2)** Anteriormente calculaste la Z-score del segundo diamante que proporción de diamentes tiene una profundidad menor"
   ]
  },
  {
   "cell_type": "markdown",
   "id": "a9a74e32",
   "metadata": {},
   "source": [
    "**3)** ¿Qué probabilidad es que tengamos un diamente que esté entre ambos?"
   ]
  },
  {
   "cell_type": "markdown",
   "id": "b503d429",
   "metadata": {},
   "source": [
    "**4)** ¿Y cuál es la probabilidad que sean de mayor profundidad que el primer diamante?"
   ]
  },
  {
   "cell_type": "markdown",
   "id": "b4e94778",
   "metadata": {},
   "source": [
    "*Creado por:*\n",
    "\n",
    "*Isabel Maniega*"
   ]
  }
 ],
 "metadata": {
  "hide_input": false,
  "kernelspec": {
   "display_name": "Python 3",
   "language": "python",
   "name": "python3"
  },
  "language_info": {
   "codemirror_mode": {
    "name": "ipython",
    "version": 3
   },
   "file_extension": ".py",
   "mimetype": "text/x-python",
   "name": "python",
   "nbconvert_exporter": "python",
   "pygments_lexer": "ipython3",
   "version": "3.8.10"
  }
 },
 "nbformat": 4,
 "nbformat_minor": 5
}
